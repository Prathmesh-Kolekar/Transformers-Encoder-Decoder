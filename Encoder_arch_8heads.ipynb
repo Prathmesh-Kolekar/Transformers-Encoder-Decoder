{
 "cells": [
  {
   "cell_type": "code",
   "execution_count": 2,
   "metadata": {},
   "outputs": [],
   "source": [
    "# from Multi_head_crossattn import MultiHeadCrossAttention\n",
    "from Multi_head_selfattn import MultiHeadSelfAttention\n",
    "from feedforward import FeedForward\n",
    "import torch.nn as nn\n",
    "import torch.nn.functional as F\n",
    "import torch"
   ]
  },
  {
   "cell_type": "code",
   "execution_count": 11,
   "metadata": {},
   "outputs": [
    {
     "name": "stdout",
     "output_type": "stream",
     "text": [
      "Using device: cpu\n"
     ]
    }
   ],
   "source": [
    "n_layers = 5\n",
    "n_heads = 8\n",
    "batch_size = 32\n",
    "sequence_len = 256\n",
    "n_embedding = 512\n",
    "\n",
    "device = torch.device(\"cuda\" if torch.cuda.is_available() else \"cpu\")\n",
    "print(\"Using device:\", device)\n",
    "\n",
    "\n",
    "class TransformerEncoderLayer(nn.Module):\n",
    "  def __init__(self,n_heads,batch_size,sequence_len, n_embedding):\n",
    "    super().__init__()\n",
    "    self.n_heads = n_heads\n",
    "    self.batch_size = batch_size\n",
    "    self.sequence_len = sequence_len\n",
    "    self.n_embedding = n_embedding\n",
    "    self.qkv_layer = nn.Linear(n_embedding,3*self.n_embedding)\n",
    "    self.dropout1 = nn.Dropout(0.1)\n",
    "    self.attention = MultiHeadSelfAttention()\n",
    "    self.layer_norm1 = nn.LayerNorm(n_embedding)\n",
    "    self.fcl = nn.Linear(n_embedding,n_embedding)\n",
    "    self.dropout2 = nn.Dropout(0.1)\n",
    "    self.layer_norm2 = nn.LayerNorm(n_embedding)\n",
    "\n",
    "  def forward(self,x):\n",
    "    residual = x\n",
    "    x = self.qkv_layer(x)\n",
    "    x=x.view(self.batch_size,self.sequence_len,self.n_heads,3*self.n_embedding//self.n_heads)\n",
    "    x = x.permute(0,2,1,3)\n",
    "    x = self.attention(x)\n",
    "    print(x.shape)\n",
    "    x = x.reshape(self.batch_size,self.sequence_len,self.n_embedding)\n",
    "    x = self.dropout1(x)\n",
    "    print(residual.shape)\n",
    "    x = x + residual\n",
    "    x = self.layer_norm1(x)\n",
    "    x = self.fcl(x)\n",
    "    x = self.dropout2(x)\n",
    "    x = x + residual\n",
    "    x = self.layer_norm2(x)\n",
    "    return x\n",
    "\n",
    "class TransformerEncoder(nn.Module):\n",
    "  def __init__(self,n_layers,n_heads,batch_size,sequence_len, n_embedding):\n",
    "    super().__init__()\n",
    "    self.layers = nn.ModuleList([TransformerEncoderLayer(n_heads,batch_size,sequence_len, n_embedding) for _ in range(n_layers)])\n",
    "\n",
    "  def forward(self,x):\n",
    "    for idx , layer in enumerate(self.layers):\n",
    "      print(f'Layer : {idx + 1}')\n",
    "      x = layer(x)\n",
    "    return x\n",
    "\n",
    "\n"
   ]
  },
  {
   "cell_type": "code",
   "execution_count": 12,
   "metadata": {},
   "outputs": [
    {
     "name": "stdout",
     "output_type": "stream",
     "text": [
      "Layer : 1\n",
      "torch.Size([32, 8, 256, 64])\n",
      "torch.Size([32, 256, 512])\n",
      "Layer : 2\n",
      "torch.Size([32, 8, 256, 64])\n",
      "torch.Size([32, 256, 512])\n",
      "Layer : 3\n",
      "torch.Size([32, 8, 256, 64])\n",
      "torch.Size([32, 256, 512])\n",
      "Layer : 4\n",
      "torch.Size([32, 8, 256, 64])\n",
      "torch.Size([32, 256, 512])\n",
      "Layer : 5\n",
      "torch.Size([32, 8, 256, 64])\n",
      "torch.Size([32, 256, 512])\n"
     ]
    }
   ],
   "source": [
    "\n",
    "encoder = TransformerEncoder(n_layers,n_heads,batch_size,sequence_len,n_embedding)\n",
    "output = encoder(torch.randn(batch_size,sequence_len,n_embedding))\n",
    "# print(output.shape)"
   ]
  },
  {
   "cell_type": "code",
   "execution_count": null,
   "metadata": {},
   "outputs": [],
   "source": []
  },
  {
   "cell_type": "code",
   "execution_count": null,
   "metadata": {},
   "outputs": [],
   "source": []
  }
 ],
 "metadata": {
  "kernelspec": {
   "display_name": "Python 3",
   "language": "python",
   "name": "python3"
  },
  "language_info": {
   "codemirror_mode": {
    "name": "ipython",
    "version": 3
   },
   "file_extension": ".py",
   "mimetype": "text/x-python",
   "name": "python",
   "nbconvert_exporter": "python",
   "pygments_lexer": "ipython3",
   "version": "3.10.0"
  }
 },
 "nbformat": 4,
 "nbformat_minor": 2
}
